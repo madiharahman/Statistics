{
 "cells": [
  {
   "cell_type": "markdown",
   "id": "d4117af8-fcea-44ef-bb8f-996acec54186",
   "metadata": {},
   "source": [
    "**1. What are the Probability Mass Function (PMF) and Probability Density Function (PDF)? Explain with\n",
    "an example.**"
   ]
  },
  {
   "cell_type": "markdown",
   "id": "ec47ccaa-9e0b-4e35-8567-2979d0ca382c",
   "metadata": {},
   "source": [
    "A `Probability Mass Function (PMF)` is a function that maps the probability of each possible outcome of a discrete random variable. It assigns probabilities to each possible value of a discrete random variable. \n",
    "\n",
    "`Example:`\n",
    "Consider a coin that is flipped two times. Let X be the number of heads obtained. Then, the possible values of X are 0, 1, 2. The PMF for X is given by:\n",
    "\n",
    "P(X=0) = 1/4\n",
    "\n",
    "P(X=1) = 2/4 = 1/2 \n",
    "\n",
    "P(X=2) = 1/4\n",
    "\n",
    "The sum of all the probabilities in the PMF must equal 1, as the sum of all possible outcomes is certain to occur.\n",
    "\n",
    "A `Probability Density Function (PDF)` is used to describe the probability distribution of a continuous random variable. The PDF gives the probability of a random variable taking a particular value within a range of values. PDF is a continuous function, and the probability that a continuous random variable takes any specific value is always zero.\n",
    "\n",
    "`Example:`\n",
    "Consider the height of individuals in a population. The height is a continuous random variable. We can define a PDF to describe the distribution of heights in the population. \n",
    "\n",
    "The PDF of a normal distribution is given by:\n",
    "\n",
    "**PDF(x) = (1 / (σ * sqrt(2π))) * exp(-((x-μ)^2) / (2 * σ^2))**\n",
    "\n",
    "where μ is the mean of the distribution and σ is the standard deviation."
   ]
  },
  {
   "cell_type": "markdown",
   "id": "346e6a72-3fd6-43c7-a067-14d0da7b02d5",
   "metadata": {},
   "source": [
    "**2. What is Cumulative Density Function (CDF)? Explain with an example. Why CDF is used?**"
   ]
  },
  {
   "cell_type": "markdown",
   "id": "1708f6a8-1ea9-48bc-b0f4-f31abd15f893",
   "metadata": {},
   "source": [
    "The Cumulative Density Function (CDF) is a function that maps the probability of a random variable being less than or equal to a given value. The CDF is used to describe the probability distribution of both discrete and continuous random variables.\n",
    "\n",
    "`Example:`\n",
    "Consider a coin that is flipped two times. Let X be the number of heads obtained. Then, the possible values of X are 0, 1, 2. The CDF for X is given by:\n",
    "\n",
    "P(X < 0) = 0\n",
    "\n",
    "P(0 $\\le$ X < 1) = 1/4 \n",
    "\n",
    "P(1 $\\le$ X < 2) = 3/4 \n",
    "\n",
    "P(X $\\ge$ 2) = 1\n",
    "\n",
    "CDF is used to find the probability of obtaining a value within a range of values for a random variable. CDF can also be used to generate random numbers from a given probability distribution using the inverse transform method. The inverse of the CDF is used to transform uniformly distributed random numbers between 0 and 1 to a random variable with the given probability distribution."
   ]
  },
  {
   "cell_type": "markdown",
   "id": "4f88149f-10e2-4f18-b1b7-c26b038ead69",
   "metadata": {},
   "source": [
    "**3. What are some examples of situations where the normal distribution might be used as a model?\n",
    "Explain how the parameters of the normal distribution relate to the shape of the distribution.**"
   ]
  },
  {
   "cell_type": "markdown",
   "id": "288506c9-6177-46dd-a30a-0b12f2ccbe1e",
   "metadata": {},
   "source": [
    "`Examples:`\n",
    "- Heights of individuals in a population\n",
    "- Weights of objects produced in a factory\n",
    "- IQ scores in a population\n",
    "\n",
    "The shape of the normal distribution is symmetric and bell-shaped. The highest point on the curve corresponds to the mean, and the curve tails off symmetrically in both directions from the mean. The standard deviation determines the width of the curve, with larger standard deviations producing wider and flatter curves, and smaller standard deviations producing narrower and taller curves."
   ]
  },
  {
   "cell_type": "markdown",
   "id": "3c0f89d8-7e56-44f0-9d1e-62954936fe40",
   "metadata": {},
   "source": [
    "**4. Explain the importance of Normal Distribution. Give a few real-life examples of Normal\n",
    "Distribution.**"
   ]
  },
  {
   "cell_type": "markdown",
   "id": "7ef47f59-1347-4daf-b8bd-af060cf248ef",
   "metadata": {},
   "source": [
    "`Importance:`\n",
    "- It has one of the important properties called central theorem. Central theorem means relationship between shape of population distribution and shape of sampling distribution of mean. This means that sampling distribution of mean approaches normal as sample size increase.\n",
    "- In case the sample size is large the normal distribution serves as good approximation.\n",
    "- Due to its mathematical properties it is more popular and easy to calculate.\n",
    "- It is used in statistical quality control in setting up of control limits.\n",
    "- The whole theory of sample tests t, f and chi-square test is based on the normal distribution.\n",
    "\n",
    "`Examples:`\n",
    "- Heights of individuals in a population\n",
    "- Weights of objects produced in a factory\n",
    "- IQ scores in a population"
   ]
  },
  {
   "cell_type": "markdown",
   "id": "78216cad-c35b-4c87-8d9b-1a4e492f3280",
   "metadata": {},
   "source": [
    "**5. What is Bernoulli Distribution? Give an Example. What is the difference between Bernoulli Distribution and Binomial Distribution?**"
   ]
  },
  {
   "cell_type": "markdown",
   "id": "628ba169-b9df-47be-8ed8-11ba6053ff2c",
   "metadata": {},
   "source": [
    "The Bernoulli distribution is a probability distribution that describes the outcomes of a single binary event that can have only two possible outcomes, typically denoted as success (1) and failure (0).\n",
    "\n",
    "`Example:` Flip of a fair coin, where success (1) is head and failure (0) is tail.\n",
    "\n",
    "`Difference`:\n",
    "\n",
    "The main difference between Bernoulli and binomial distributions is that the Bernoulli distribution models the outcome of a single trial, while the binomial distribution models the number of successes in a fixed number of independent Bernoulli trials."
   ]
  },
  {
   "cell_type": "markdown",
   "id": "51690dee-d84f-4d08-ab07-22b712f50d73",
   "metadata": {},
   "source": [
    "**6. Consider a dataset with a mean of 50 and a standard deviation of 10. If we assume that the dataset\n",
    "is normally distributed, what is the probability that a randomly selected observation will be greater\n",
    "than 60? Use the appropriate formula and show your calculations.**"
   ]
  },
  {
   "cell_type": "code",
   "execution_count": 2,
   "id": "bdcdfc72-3702-45b2-a968-6a680439a9c4",
   "metadata": {},
   "outputs": [
    {
     "name": "stdout",
     "output_type": "stream",
     "text": [
      "Z-Score : 1.0\n"
     ]
    }
   ],
   "source": [
    "#The z-score is calculated as: z = (x - μ) / σ\n",
    "x = 60\n",
    "mean = 50\n",
    "std = 10\n",
    "z_score = (x-mean)/(std)\n",
    "print('Z-Score :',z_score)"
   ]
  },
  {
   "cell_type": "markdown",
   "id": "5dbb2153-c195-4886-90b4-7ec4ab0adfa0",
   "metadata": {},
   "source": [
    "Using a standard normal distribution table, the probability of a z-score being greater than 1 is approximately 0.1587. Therefore, the probability that a randomly selected observation from the given normally distributed dataset will be greater than 60 is `15.87%.`"
   ]
  },
  {
   "cell_type": "markdown",
   "id": "861ed097-3576-4ebc-91d6-f99f4bf5d211",
   "metadata": {},
   "source": [
    "**7. Explain uniform Distribution with an example.**"
   ]
  },
  {
   "cell_type": "markdown",
   "id": "fb267270-24b6-41f9-8e74-7bbf0491d8b5",
   "metadata": {},
   "source": [
    "The uniform distribution is a probability distribution that assigns equal probability to all values within a specified interval or range.\n",
    "\n",
    "`Example:`\n",
    "\n",
    "The roll of a fair six-sided die. Each of the six faces of the die is equally likely to come up, so the probability of any particular face coming up is 1/6. This means that the probability distribution of the roll of a fair six-sided die is a discrete uniform distribution with parameters a=1 and b=6."
   ]
  },
  {
   "cell_type": "markdown",
   "id": "6b2156ef-4f18-453b-939b-a827073a55a9",
   "metadata": {},
   "source": [
    "**8. What is the z score? State the importance of the z score.**"
   ]
  },
  {
   "cell_type": "markdown",
   "id": "86afc40c-511a-491e-b9d8-d0a516958418",
   "metadata": {},
   "source": [
    "The `z-score` (also called standard score or normal deviate) is a statistical measure that indicates how many standard deviations a data point is from the mean of a dataset. It is calculated by subtracting the mean of the dataset from a particular data point, and then dividing the result by the standard deviation of the dataset.\n",
    "\n",
    "The formula for calculating the z-score is: `z = (x - μ) / σ`\n",
    "- `z` is the z-score\n",
    "- `x` is the data point\n",
    "- `μ` is the mean of the dataset\n",
    "- `σ` is the standard deviation of the dataset\n",
    "\n",
    "The `importance` of the z-score lies in its ability to standardize data, making it easier to compare values from different datasets. By converting data to z-scores, we can calculate the probability of observing a particular value or range of values, and compare the relative positions of different data points within their respective datasets.\n",
    "\n",
    "The z-score is also used to identify outliers or extreme values in a dataset. Any data point with a z-score greater than 3 or less than -3 is considered an outlier, as it lies more than 3 standard deviations away from the mean of the dataset."
   ]
  },
  {
   "cell_type": "markdown",
   "id": "09df753c-588f-4277-ae76-bea091716d07",
   "metadata": {},
   "source": [
    "**9. What is Central Limit Theorem? State the significance of the Central Limit Theorem.**"
   ]
  },
  {
   "cell_type": "markdown",
   "id": "448a3ab0-8fee-4a89-8a26-1deb04c1ecbf",
   "metadata": {},
   "source": [
    "The Central Limit Theorem (CLT) is a fundamental concept in probability theory and statistics that states that the distribution of sample means approaches a normal distribution as the sample size increases, regardless of the shape of the population distribution.\n",
    "\n",
    "`Significance:`\n",
    "It allows us to make inferences about a population based on a sample, even if the population distribution is unknown or non-normal. It also forms the basis of many statistical techniques, such as hypothesis testing, confidence intervals, and regression analysis."
   ]
  },
  {
   "cell_type": "markdown",
   "id": "a06bda92-3253-42ab-813d-5ac9110a45a1",
   "metadata": {},
   "source": [
    "**10. State the assumptions of the Central Limit Theorem.**"
   ]
  },
  {
   "cell_type": "markdown",
   "id": "1fc7fd1b-5183-4a8e-9fc1-7b1bb6007773",
   "metadata": {},
   "source": [
    "- The sample should be drawn randomly following the condition of randomisation.\n",
    "- The samples drawn should be independent of each other. They should not influence the other samples.\n",
    "- When the sampling is done without replacement, the sample size shouldn’t exceed 10% of the total population.\n",
    "- The sample size should be sufficiently large."
   ]
  }
 ],
 "metadata": {
  "kernelspec": {
   "display_name": "Python 3 (ipykernel)",
   "language": "python",
   "name": "python3"
  },
  "language_info": {
   "codemirror_mode": {
    "name": "ipython",
    "version": 3
   },
   "file_extension": ".py",
   "mimetype": "text/x-python",
   "name": "python",
   "nbconvert_exporter": "python",
   "pygments_lexer": "ipython3",
   "version": "3.10.8"
  }
 },
 "nbformat": 4,
 "nbformat_minor": 5
}
