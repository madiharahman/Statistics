{
 "cells": [
  {
   "cell_type": "markdown",
   "id": "9909c519-aa8c-49ba-a36e-427344f53f6f",
   "metadata": {},
   "source": [
    "**1. What are the three measures of central tendency?**"
   ]
  },
  {
   "cell_type": "markdown",
   "id": "9a3ba490-6fce-444e-a5fe-a9ad39f45a8a",
   "metadata": {},
   "source": [
    "- Mean\n",
    "- Median\n",
    "- Mode"
   ]
  },
  {
   "cell_type": "markdown",
   "id": "7d053b6e-b247-445d-8572-1485c1b1b96b",
   "metadata": {},
   "source": [
    "**2. What is the difference between the mean, median, and mode? How are they used to measure the central tendency of a dataset?**"
   ]
  },
  {
   "cell_type": "markdown",
   "id": "0c6d28c0-5907-4146-8da1-c53d6d921299",
   "metadata": {},
   "source": [
    "`Mean` is calculated by adding up all the values in a dataset and dividing by the number of values. It represents the average value of the dataset and is the most commonly used measure of central tendency. The mean is sensitive to extreme values, or outliers, which can greatly affect its value.\n",
    "\n",
    "`Median` is the middle value in a dataset when the values are arranged in order. It represents the value that splits the dataset into two equal halves. The median is less sensitive to outliers than the mean and is often used when the dataset has extreme values.\n",
    "\n",
    "`Mode` is the value that appears most frequently in a dataset. It represents the most common value or values in the dataset. The mode is often used with categorical or nominal data where values cannot be added or averaged."
   ]
  },
  {
   "cell_type": "markdown",
   "id": "33f32d3f-1703-49c0-ae34-44bead65197b",
   "metadata": {},
   "source": [
    "**3. Measure the three measures of central tendency for the given height data:\n",
    "[178,177,176,177,178.2,178,175,179,180,175,178.9,176.2,177,172.5,178,176.5]**"
   ]
  },
  {
   "cell_type": "code",
   "execution_count": 23,
   "id": "c7137ec7-7557-4925-8a29-51da850ba408",
   "metadata": {},
   "outputs": [
    {
     "name": "stdout",
     "output_type": "stream",
     "text": [
      "177.01875\n",
      "177.0\n",
      "[177.]\n"
     ]
    },
    {
     "name": "stderr",
     "output_type": "stream",
     "text": [
      "/tmp/ipykernel_131/3964739304.py:14: FutureWarning: Unlike other reduction functions (e.g. `skew`, `kurtosis`), the default behavior of `mode` typically preserves the axis it acts along. In SciPy 1.11.0, this behavior will change: the default value of `keepdims` will become False, the `axis` over which the statistic is taken will be eliminated, and the value None will no longer be accepted. Set `keepdims` to True or False to avoid this warning.\n",
      "  mode=stats.mode(height)\n"
     ]
    }
   ],
   "source": [
    "import numpy as np\n",
    "from scipy import stats\n",
    "\n",
    "height= [178,177,176,177,178.2,178,175,179,180,175,178.9,176.2,177,172.5,178,176.5]\n",
    "#Mean\n",
    "mean=np.mean(height)\n",
    "print(mean)\n",
    "\n",
    "#Median\n",
    "median=np.median(height)\n",
    "print(median)\n",
    "\n",
    "#Mode\n",
    "mode=stats.mode(height)\n",
    "print(mode[0])"
   ]
  },
  {
   "cell_type": "markdown",
   "id": "bba3b565-9cfa-4d9c-9f53-fafc73a8aacb",
   "metadata": {},
   "source": [
    "**4. Find the standard deviation for the given data:\n",
    "[178,177,176,177,178.2,178,175,179,180,175,178.9,176.2,177,172.5,178,176.5]**"
   ]
  },
  {
   "cell_type": "code",
   "execution_count": 3,
   "id": "ef29d938-a589-41fc-b0a8-990a00fa40d8",
   "metadata": {},
   "outputs": [
    {
     "data": {
      "text/plain": [
       "1.7885814036548633"
      ]
     },
     "execution_count": 3,
     "metadata": {},
     "output_type": "execute_result"
    }
   ],
   "source": [
    "import numpy as np\n",
    "data = [178,177,176,177,178.2,178,175,179,180,175,178.9,176.2,177,172.5,178,176.5]\n",
    "np.std(data)"
   ]
  },
  {
   "cell_type": "markdown",
   "id": "1715f665-9739-44b9-9b72-458ca9d494d0",
   "metadata": {},
   "source": [
    "**5. How are measures of dispersion such as range, variance, and standard deviation used to describe the spread of a dataset? Provide an example.**"
   ]
  },
  {
   "cell_type": "markdown",
   "id": "1e6332ef-5dc7-4e86-b59e-b7ff5c635564",
   "metadata": {},
   "source": [
    "`Range` is the difference between the highest and lowest values in a dataset. It gives a rough idea of the spread of the data, but it can be affected by outliers.\n",
    "\n",
    "`Variance` is the average of the squared differences between each value and the mean of the dataset. It measures how far the data is spread out from the mean. The variance can be influenced by extreme values and is expressed in squared units.\n",
    "\n",
    "`Standard deviation` is the square root of the variance. It is a more commonly used measure of dispersion than variance, as it is expressed in the same units as the original data. The standard deviation indicates how far the data is spread out from the mean and is less sensitive to outliers than the variance."
   ]
  },
  {
   "cell_type": "code",
   "execution_count": 5,
   "id": "62588825-bca9-4326-aac3-336d3c1fffb2",
   "metadata": {},
   "outputs": [
    {
     "name": "stdout",
     "output_type": "stream",
     "text": [
      "7.5\n",
      "3.199023437500001\n",
      "1.7885814036548633\n"
     ]
    }
   ],
   "source": [
    "#Example:\n",
    "\n",
    "data = [178,177,176,177,178.2,178,175,179,180,175,178.9,176.2,177,172.5,178,176.5]\n",
    "#Range\n",
    "range=max(data)-min(data)\n",
    "print(range)\n",
    "\n",
    "#Variance\n",
    "var=np.var(data)\n",
    "print(var)\n",
    "\n",
    "#Standard Deviation\n",
    "sd=np.std(data)\n",
    "print(sd)"
   ]
  },
  {
   "cell_type": "markdown",
   "id": "f6c6ea58-1227-482a-86f8-f96c24353cb7",
   "metadata": {},
   "source": [
    "**6. What is a Venn diagram?**"
   ]
  },
  {
   "cell_type": "markdown",
   "id": "a95a13e6-f7f3-4adc-8276-25d0b01a5ca7",
   "metadata": {},
   "source": [
    "A Venn diagram is a visual representation of the relationships between different sets of items or concepts. It consists of overlapping circles or other shapes, where each circle represents a set and the overlap between circles represents the intersection of those sets. The areas outside the circles represent the items or concepts that are not part of any of the sets."
   ]
  },
  {
   "cell_type": "markdown",
   "id": "a3ed6cae-0e36-4b15-8d13-a1cf83eab657",
   "metadata": {},
   "source": [
    "**7. For the two given sets A = (2,3,4,5,6,7) & B = (0,2,6,8,10). Find:\n",
    "(i) A ⋂ B\n",
    "(ii) A ⋃ B**"
   ]
  },
  {
   "cell_type": "code",
   "execution_count": 20,
   "id": "db8096d9-ad53-4b15-bc10-a6cd07a83ddf",
   "metadata": {},
   "outputs": [
    {
     "name": "stdout",
     "output_type": "stream",
     "text": [
      "{0, 2, 3, 4, 5, 6, 7, 8, 10}\n",
      "{2, 6}\n"
     ]
    }
   ],
   "source": [
    "A = {2,3,4,5,6,7}\n",
    "B = {0,2,6,8,10}\n",
    "# (i)\n",
    "union= A.union(B)\n",
    "print(union)\n",
    "# (ii)\n",
    "intersection = A.intersection(B)\n",
    "print(intersection)"
   ]
  },
  {
   "cell_type": "markdown",
   "id": "2af189a3-d910-4356-a45d-1ca75ff6935d",
   "metadata": {},
   "source": [
    "**8. What do you understand about skewness in data?**"
   ]
  },
  {
   "cell_type": "markdown",
   "id": "1b9fa9e4-cd37-4b84-9715-cf6a3134cdd3",
   "metadata": {},
   "source": [
    "Skewness is a measurement of the distortion of symmetrical distribution or asymmetry in a data set. Skewness is demonstrated on a bell curve when data points are not distributed symmetrically to the left and right sides of the median on a bell curve."
   ]
  },
  {
   "cell_type": "markdown",
   "id": "61b24c10-10b5-411e-9996-9174f818eaf2",
   "metadata": {},
   "source": [
    "**9. If a data is right skewed then what will be the position of median with respect to mean?**"
   ]
  },
  {
   "cell_type": "markdown",
   "id": "c9262673-4f7d-4066-9531-c7d25f32991f",
   "metadata": {},
   "source": [
    "If a data is right skewed, the median will be less than the mean. This is because the mean is pulled towards the long tail on the right-hand side of the distribution, which makes it greater than the median. In a right-skewed distribution, there are typically a few very high values on the right-hand side of the distribution that can have a large impact on the mean. However, the median is not affected by extreme values in the same way, so it provides a better measure of central tendency for skewed datasets."
   ]
  },
  {
   "cell_type": "markdown",
   "id": "25f1ae25-ebfb-4eee-af71-b8399681cd9b",
   "metadata": {},
   "source": [
    "**10. Explain the difference between covariance and correlation. How are these measures used in statistical analysis?**"
   ]
  },
  {
   "cell_type": "markdown",
   "id": "83e88727-8232-4cec-90e9-6cd0ddcb2d99",
   "metadata": {},
   "source": [
    "Covariance shows us how the two variables vary or differ from each other, whereas Correlation shows us the relationship and how they are related. \n",
    "\n",
    "`Covariance` is a measure of the joint variability of two variables, and it can take on positive or negative values. A positive covariance indicates that the two variables tend to increase or decrease together, while a negative covariance indicates that the two variables tend to move in opposite directions. However, the magnitude of covariance is not standardized, which means it can be difficult to compare covariances across different datasets or variable scales.\n",
    "\n",
    "`Correlation` measures the strength and direction of the linear relationship between two variables. It is a standardized measure that ranges from -1 to +1, with 0 indicating no linear relationship, -1 indicating a perfect negative linear relationship, and +1 indicating a perfect positive linear relationship. Correlation is useful because it is not affected by differences in the scales of the two variables, and it provides a standardized measure of the strength and direction of the relationship."
   ]
  },
  {
   "cell_type": "markdown",
   "id": "3c3fe514-4188-49ec-9bd1-cee27787c772",
   "metadata": {},
   "source": [
    "**11. What is the formula for calculating the sample mean? Provide an example calculation for a dataset.**"
   ]
  },
  {
   "cell_type": "markdown",
   "id": "b7b4af30-84eb-4d0a-8972-bf10e3ae6fab",
   "metadata": {},
   "source": [
    "Sample Mean = (sum of all values) / (number of observations)"
   ]
  },
  {
   "cell_type": "code",
   "execution_count": 8,
   "id": "e13a45eb-eb38-4112-9b49-ca62f8ac3e89",
   "metadata": {},
   "outputs": [
    {
     "data": {
      "text/plain": [
       "177.01875"
      ]
     },
     "execution_count": 8,
     "metadata": {},
     "output_type": "execute_result"
    }
   ],
   "source": [
    "height= [178,177,176,177,178.2,178,175,179,180,175,178.9,176.2,177,172.5,178,176.5]\n",
    "mean=np.mean(height)\n",
    "mean"
   ]
  },
  {
   "cell_type": "markdown",
   "id": "5bce8519-57c7-4fb1-8d5c-ebf9131abf16",
   "metadata": {},
   "source": [
    "**12. For a normal distribution data what is the relationship between its measure of central tendency?**"
   ]
  },
  {
   "cell_type": "markdown",
   "id": "edd5cdbf-a64d-403b-a052-9f457992fbb0",
   "metadata": {},
   "source": [
    "`Mean=Median=Mode`"
   ]
  },
  {
   "cell_type": "markdown",
   "id": "23107a1e-4482-4f75-94e3-6f42978d37e1",
   "metadata": {},
   "source": [
    "**13. How is covariance different from correlation?**"
   ]
  },
  {
   "cell_type": "markdown",
   "id": "6e44dd8c-9393-4ab0-bf41-01c026ee1110",
   "metadata": {},
   "source": [
    "Covariance shows us how the two variables vary or differ from each other, whereas Correlation shows us the relationship and how they are related. \n",
    "\n",
    "`Covariance` is a measure of the joint variability of two variables, and it can take on positive or negative values. A positive covariance indicates that the two variables tend to increase or decrease together, while a negative covariance indicates that the two variables tend to move in opposite directions. However, the magnitude of covariance is not standardized, which means it can be difficult to compare covariances across different datasets or variable scales.\n",
    "\n",
    "`Correlation` measures the strength and direction of the linear relationship between two variables. It is a standardized measure that ranges from -1 to +1, with 0 indicating no linear relationship, -1 indicating a perfect negative linear relationship, and +1 indicating a perfect positive linear relationship. Correlation is useful because it is not affected by differences in the scales of the two variables, and it provides a standardized measure of the strength and direction of the relationship."
   ]
  },
  {
   "cell_type": "markdown",
   "id": "9e775781-aab3-40ab-bd51-35a43bdcdfaf",
   "metadata": {},
   "source": [
    "**14. How do outliers affect measures of central tendency and dispersion? Provide an example.**"
   ]
  },
  {
   "cell_type": "markdown",
   "id": "92a84213-6d0f-4d2a-9706-ebcfc7e7168e",
   "metadata": {},
   "source": [
    "Outliers are values that are significantly different from the rest of the data and can skew the measures of central tendency and dispersion."
   ]
  },
  {
   "cell_type": "code",
   "execution_count": 17,
   "id": "3052d7ce-1518-43d7-8002-f8d2a5b67c25",
   "metadata": {},
   "outputs": [
    {
     "name": "stdout",
     "output_type": "stream",
     "text": [
      "177.01875\n",
      "7.5\n"
     ]
    }
   ],
   "source": [
    "height= [178,177,176,177,178.2,178,175,179,180,175,178.9,176.2,177,172.5,178,176.5]\n",
    "mean=np.mean(height)\n",
    "range=max(height)-min(height)\n",
    "print(mean)\n",
    "print(range)"
   ]
  },
  {
   "cell_type": "code",
   "execution_count": 18,
   "id": "ed91d47a-297c-447e-a058-6a89888dfc1e",
   "metadata": {},
   "outputs": [
    {
     "name": "stdout",
     "output_type": "stream",
     "text": [
      "172.48823529411766\n",
      "80\n"
     ]
    }
   ],
   "source": [
    "# Adding Outlier\n",
    "oheight= [178,177,176,177,178.2,178,175,179,180,175,178.9,176.2,177,172.5,178,176.5,100]\n",
    "omean=np.mean(oheight)\n",
    "orange=max(oheight)-min(oheight)\n",
    "print(omean)\n",
    "print(orange)"
   ]
  }
 ],
 "metadata": {
  "kernelspec": {
   "display_name": "Python 3 (ipykernel)",
   "language": "python",
   "name": "python3"
  },
  "language_info": {
   "codemirror_mode": {
    "name": "ipython",
    "version": 3
   },
   "file_extension": ".py",
   "mimetype": "text/x-python",
   "name": "python",
   "nbconvert_exporter": "python",
   "pygments_lexer": "ipython3",
   "version": "3.10.8"
  }
 },
 "nbformat": 4,
 "nbformat_minor": 5
}
