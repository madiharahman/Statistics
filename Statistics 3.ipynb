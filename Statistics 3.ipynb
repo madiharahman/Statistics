{
 "cells": [
  {
   "cell_type": "markdown",
   "id": "2b3a1a26-e099-4f6c-9cb7-84cef03ca320",
   "metadata": {},
   "source": [
    "**1. What is the Probability density function?**"
   ]
  },
  {
   "cell_type": "markdown",
   "id": "0b02fea5-c66e-4c44-9683-a72c6b56dd0c",
   "metadata": {},
   "source": [
    "A probability density function (PDF) is a function that describes the probability distribution of a continuous random variable. The PDF describes the relative likelihood of a value occurring within a given range of values.\n",
    "\n",
    "The PDF is defined such that the integral over any range of values gives the probability of the random variable taking on a value in that range. The PDF is non-negative for all possible values of the random variable, and the total area under the curve of the PDF is equal to 1."
   ]
  },
  {
   "cell_type": "markdown",
   "id": "2ab74b1b-6fb6-49ac-8c95-652d3d1c1f78",
   "metadata": {},
   "source": [
    "**2. What are the types of Probability distribution?**"
   ]
  },
  {
   "cell_type": "markdown",
   "id": "d12e5aa3-a44a-4140-9a8a-2ff6c03e1c98",
   "metadata": {},
   "source": [
    "- Normal/Gaussian Distribution\n",
    "- Bernoulli Distribution\n",
    "- Binomial Distribution\n",
    "- Uniform Distribution\n",
    "- Poisson Distribution\n",
    "- Geometric Distribution"
   ]
  },
  {
   "cell_type": "markdown",
   "id": "e4690aa1-5da7-425c-8075-4eeea2cc4ff3",
   "metadata": {},
   "source": [
    "**3. Write a Python function to calculate the probability density function of a normal distribution with\n",
    "given mean and standard deviation at a given point.**"
   ]
  },
  {
   "cell_type": "code",
   "execution_count": 3,
   "id": "d5a50945-26a0-4c42-b129-7125f9d3d60b",
   "metadata": {},
   "outputs": [
    {
     "name": "stdout",
     "output_type": "stream",
     "text": [
      "0.3989422804014327\n"
     ]
    }
   ],
   "source": [
    "from scipy.stats import norm\n",
    "\n",
    "def normal_pdf(x, mu, sigma):\n",
    "    pdf = norm.pdf(x, loc=mu, scale=sigma)\n",
    "    return pdf\n",
    "\n",
    "pdf = normal_pdf(x=0, mu=0, sigma=1)\n",
    "print(pdf)"
   ]
  },
  {
   "cell_type": "markdown",
   "id": "fb6f2310-7785-4d70-9de0-4657fe855f3c",
   "metadata": {},
   "source": [
    "**4. What are the properties of Binomial distribution? Give two examples of events where binomial\n",
    "distribution can be applied.**"
   ]
  },
  {
   "cell_type": "markdown",
   "id": "d5c67f7e-91f5-4bc4-8fbf-6c83cba0c063",
   "metadata": {},
   "source": [
    "`Properties of Binomial Distribution`\n",
    "- There are two possible outcomes: true or false, success or failure, yes or no.\n",
    "- There is ‘n’ number of independent trials or a fixed number of n times repeated trials.\n",
    "- The probability of success or failure remains the same for each trial.\n",
    "- Only the number of success is calculated out of n independent trials.\n",
    "- Every trial is an independent trial, which means the outcome of one trial does not affect the outcome of another trial.\n",
    "\n",
    "`Examples:`\n",
    "- To find the number of male and female employees in an organisation.\n",
    "- Taking a survey of positive and negative reviews from the public for any specific product or place."
   ]
  },
  {
   "cell_type": "markdown",
   "id": "8f20244c-47d1-4b9c-89b7-5791be74d3e1",
   "metadata": {},
   "source": [
    "**5. Generate a random sample of size 1000 from a binomial distribution with probability of success 0.4\n",
    "and plot a histogram of the results using matplotlib.**"
   ]
  },
  {
   "cell_type": "code",
   "execution_count": 5,
   "id": "4f2d5103-4daf-48db-9f06-d49bdd9483cd",
   "metadata": {},
   "outputs": [
    {
     "data": {
      "image/png": "[encoded data removed]",
      "text/plain": [
       "<Figure size 640x480 with 1 Axes>"
      ]
     },
     "metadata": {},
     "output_type": "display_data"
    }
   ],
   "source": [
    "import numpy as np\n",
    "import matplotlib.pyplot as plt\n",
    "\n",
    "n = 1000\n",
    "p = 0.4\n",
    "\n",
    "sample = np.random.binomial(n, p, size=1000)\n",
    "plt.hist(sample, bins=20)\n",
    "plt.xlabel('Number of successes')\n",
    "plt.ylabel('Frequency')\n",
    "plt.title('Binomial distribution with n=1000, p=0.4')\n",
    "plt.show()"
   ]
  },
  {
   "cell_type": "markdown",
   "id": "6578517f-a519-4f83-8e7a-835237123242",
   "metadata": {},
   "source": [
    "**6. Write a Python function to calculate the cumulative distribution function of a Poisson distribution\n",
    "with given mean at a given point.**"
   ]
  },
  {
   "cell_type": "code",
   "execution_count": 7,
   "id": "ce1cb3f6-34ab-4440-a0ff-f45f5ee9a1d8",
   "metadata": {},
   "outputs": [
    {
     "name": "stdout",
     "output_type": "stream",
     "text": [
      "P(X <= 2 | lamda = 2) = 0.6767\n"
     ]
    }
   ],
   "source": [
    "import math\n",
    "\n",
    "def poisson_cdf(lamda, k):\n",
    "    cdf = 0.0\n",
    "    for i in range(k + 1):\n",
    "        cdf += (lamda ** i) * math.exp(-lamda) / math.factorial(i)\n",
    "    return cdf\n",
    "\n",
    "lamda = 2\n",
    "k = 2\n",
    "cdf = poisson_cdf(lamda, k)\n",
    "print(\"P(X <= {} | lamda = {}) = {:.4f}\".format(k, lamda, cdf))"
   ]
  },
  {
   "cell_type": "markdown",
   "id": "1af14117-4365-4e36-bec2-d971f3ac2444",
   "metadata": {},
   "source": [
    "**7. How Binomial distribution different from Poisson distribution?**"
   ]
  },
  {
   "cell_type": "markdown",
   "id": "413b25a3-3afb-404f-9a19-0e062fc29f9c",
   "metadata": {},
   "source": [
    "While the Binomial distribution deals with experiments involving a fixed number of independent trials, the Poisson distribution focuses on events occurring over a fixed interval."
   ]
  },
  {
   "cell_type": "markdown",
   "id": "d5964b25-25be-43e2-9cb2-26bc3f4c2a19",
   "metadata": {},
   "source": [
    "**8. Generate a random sample of size 1000 from a Poisson distribution with mean 5 and calculate the\n",
    "sample mean and variance.**"
   ]
  },
  {
   "cell_type": "code",
   "execution_count": 8,
   "id": "f70dbbbe-6e3b-4c0f-911a-29f26ada8981",
   "metadata": {},
   "outputs": [
    {
     "name": "stdout",
     "output_type": "stream",
     "text": [
      "Sample Mean: 4.96\n",
      "Sample Variance: 4.91\n"
     ]
    }
   ],
   "source": [
    "import numpy as np\n",
    "\n",
    "sample = np.random.poisson(5, 1000)\n",
    "\n",
    "sample_mean = np.mean(sample)\n",
    "sample_var = np.var(sample)\n",
    "\n",
    "\n",
    "print(\"Sample Mean: {:.2f}\".format(sample_mean))\n",
    "print(\"Sample Variance: {:.2f}\".format(sample_var))"
   ]
  },
  {
   "cell_type": "markdown",
   "id": "e3c54def-ad98-4a6c-a3fe-a4f6937f0c77",
   "metadata": {},
   "source": [
    "**9. How mean and variance are related in Binomial distribution and Poisson distribution?**"
   ]
  },
  {
   "cell_type": "markdown",
   "id": "f1f125ac-a24d-49bd-9aa7-41c953d349df",
   "metadata": {},
   "source": [
    "In both Binomial distribution and Poisson distribution, the mean and variance are related, but the relationship is different for each distribution.\n",
    "\n",
    "- Binomial Distribution\n",
    "\n",
    "Mean is directly proportional to the number of trials n and the probability of success p, while variance is proportional to both n and p, as well as the probability of failure 1-p.\n",
    "\n",
    "- Poission Distribution\n",
    "\n",
    "Mean and variance are equal to the parameter lambda, which represents the average rate of occurrence of events. This means that the variance of the Poisson distribution is always equal to its mean, regardless of the value of lambda."
   ]
  },
  {
   "cell_type": "markdown",
   "id": "1338f657-a69b-4f18-9c8e-51240e761e5d",
   "metadata": {},
   "source": [
    "**10. In normal distribution with respect to mean position, where does the least frequent data appear?**"
   ]
  },
  {
   "cell_type": "markdown",
   "id": "f65cdd95-2b2f-469e-9f2b-75c46c6a7a66",
   "metadata": {},
   "source": [
    "The least frequent data appears at the values that are more than 3 standard deviations away from the mean in either direction."
   ]
  },
  {
   "cell_type": "code",
   "execution_count": null,
   "id": "d7582f3f-9b1a-4fc4-8115-687afc9ab2bc",
   "metadata": {},
   "outputs": [],
   "source": []
  }
 ],
 "metadata": {
  "kernelspec": {
   "display_name": "Python 3 (ipykernel)",
   "language": "python",
   "name": "python3"
  },
  "language_info": {
   "codemirror_mode": {
    "name": "ipython",
    "version": 3
   },
   "file_extension": ".py",
   "mimetype": "text/x-python",
   "name": "python",
   "nbconvert_exporter": "python",
   "pygments_lexer": "ipython3",
   "version": "3.10.8"
  }
 },
 "nbformat": 4,
 "nbformat_minor": 5
}
