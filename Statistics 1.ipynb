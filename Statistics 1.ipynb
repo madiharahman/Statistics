{
 "cells": [
  {
   "cell_type": "markdown",
   "id": "017dcf69-a7d8-4430-a7e1-d54a119791c1",
   "metadata": {},
   "source": [
    "1. What is Statistics?"
   ]
  },
  {
   "cell_type": "markdown",
   "id": "1642e40e-c9a9-4ba4-b2c6-ca8c89c15e0e",
   "metadata": {},
   "source": [
    "Statistics is the science concerned with developing and studying methods for collecting, analyzing, interpreting and presenting empirical data. Statistics is a highly interdisciplinary field; research in statistics finds applicability in virtually all scientific fields and research questions in the various scientific fields motivate the development of new statistical methods and theory. In developing methods and studying the theory that underlies the methods statisticians draw on a variety of mathematical and computational tools."
   ]
  },
  {
   "cell_type": "markdown",
   "id": "7a72dd8e-0267-4ee7-a42f-4802e926ca2b",
   "metadata": {},
   "source": [
    "2. Define the different types of statistics and give an example of when each type might be used."
   ]
  },
  {
   "cell_type": "markdown",
   "id": "d9d2ccd8-5627-4b1d-b7bf-d62a4c8c80d9",
   "metadata": {},
   "source": [
    "1. `Descriptive Statistics`: Descriptive statistics involves the collection, analysis, and presentation of data in a way that describes and summarizes the main features of a dataset. It is used to provide a summary of a dataset, and it includes measures such as measures of central tendency (mean, median, mode), measures of variability (standard deviation, variance), and graphical displays (histograms, box plots).\n",
    "\n",
    "*Example*: A survey conducted to determine the average salary of employees in a company. \n",
    "\n",
    "2. `Inferential Statistics`: Inferential statistics involves using a sample of data to make inferences about a larger population. It involves estimating population parameters based on sample statistics and testing hypotheses about the relationship between variables. Inferential statistics helps to make predictions about future events based on the data analysis.\n",
    "\n",
    "*Example*: A company wants to determine whether a new product is likely to be successful or not. "
   ]
  },
  {
   "cell_type": "markdown",
   "id": "8e75f262-b912-400c-a54d-c435923217d6",
   "metadata": {},
   "source": [
    "3. What are the different types of data and how do they differ from each other? Provide an example of each type of data."
   ]
  },
  {
   "cell_type": "markdown",
   "id": "37a521e2-c626-4f04-8878-af2795735a01",
   "metadata": {},
   "source": [
    "**Quantitative data is numbers-based, countable, or measurable. Qualitative data is interpretation-based, descriptive, and relating to language.**\n",
    "\n",
    "*There are two main types of data:*\n",
    "\n",
    "- Quantitative\n",
    "\n",
    "`1. Discrete Data`\n",
    "Ex: Numbers of employees in a company\n",
    "\n",
    "`2. Continuous Data`\n",
    "Ex: Market share price\n",
    "\n",
    "- Qualitative\n",
    "\n",
    "`1. Nominal Data`\n",
    "Ex: Marital status (Single, Widowed, Married)\n",
    "\n",
    "`2. Ordinal Data`\n",
    "Ex: Letter grades in the exam (A, B, C, D, etc.)"
   ]
  },
  {
   "cell_type": "markdown",
   "id": "4d0b94b8-f9b5-4c04-8d5f-017343b7d9fc",
   "metadata": {},
   "source": [
    "4. Categorise the following datasets with respect to quantitative and qualitative data types:\n",
    "\n",
    "(i) Grading in exam: A+, A, B+, B, C+, C, D, E\n",
    "\n",
    "(ii) Colour of mangoes: yellow, green, orange, red\n",
    "\n",
    "(iii) Height data of a class: [178.9, 179, 179.5, 176, 177.2, 178.3, 175.8,...]\n",
    "\n",
    "(iv) Number of mangoes exported by a farm: [500, 600, 478, 672, ...]"
   ]
  },
  {
   "cell_type": "markdown",
   "id": "1929accd-8022-4112-a0de-275f29a3dba1",
   "metadata": {},
   "source": [
    "(i) `Qualitative Data`\n",
    "\n",
    "(ii) `Qualitative Data`\n",
    "\n",
    "(iii) `Quantitative Data`\n",
    "\n",
    "(iv) `Quantitative Data`"
   ]
  },
  {
   "cell_type": "markdown",
   "id": "1af06d08-15b8-43b3-ae7a-933190fd058b",
   "metadata": {},
   "source": [
    "5. Explain the concept of levels of measurement and give an example of a variable for each level."
   ]
  },
  {
   "cell_type": "markdown",
   "id": "9c12d406-3440-4645-b544-ee10386b536c",
   "metadata": {},
   "source": [
    "Levels of measurement, also called scales of measurement, tell you how precisely variables are recorded. In scientific research, a variable is anything that can take on different values across our data set (e.g., height or test scores).\n",
    "\n",
    "`Nominal level` **Ex**: Gender\n",
    "\n",
    "`Ordinal level` **Ex**: Top 3 Medallists\n",
    "\n",
    "`Interval level` **Ex**: Temperature in Fahrenheit or Celsius\n",
    "\n",
    "`Ratio level` **Ex**: Height"
   ]
  },
  {
   "cell_type": "markdown",
   "id": "6eb428b3-f9ff-4606-a72f-aa5c82c52192",
   "metadata": {},
   "source": [
    "6. Why is it important to understand the level of measurement when analyzing data? Provide an example to illustrate your answer."
   ]
  },
  {
   "cell_type": "markdown",
   "id": "bfa6c7c3-e31d-4026-b748-7e7e65d030ab",
   "metadata": {},
   "source": [
    "It is important to understand the level of measurement of variables, because the level of measurement determines the type of statistical analysis that can be conducted, and, therefore, the type of conclusions that can be drawn.\n",
    "\n",
    "`Ex`: If we only know that someone's income falls into one of three categories (e.g., low, medium, high), we only have nominal data. We can use descriptive statistics such as frequency counts, percentages, and mode to summarize the data. If we have ordinal data for income (e.g., income level on a scale from 1 to 5), we can calculate the mode, median, and percentile ranks."
   ]
  },
  {
   "cell_type": "markdown",
   "id": "8ef4c882-58de-4b51-adc8-d4e40a6f32c2",
   "metadata": {},
   "source": [
    "7. How nominal data type is different from ordinal data type."
   ]
  },
  {
   "cell_type": "markdown",
   "id": "22ebedda-7785-4a90-99b3-56edd282c30e",
   "metadata": {},
   "source": [
    "`Nominal level`: the data can only be categorized \n",
    "\n",
    "`Ordinal level`: the data can be categorized and ranked "
   ]
  },
  {
   "cell_type": "markdown",
   "id": "8b442a04-9734-401d-a326-0ec27a27c151",
   "metadata": {},
   "source": [
    "8. Which type of plot can be used to display data in terms of range?"
   ]
  },
  {
   "cell_type": "markdown",
   "id": "94cac449-df61-4a43-9f0f-19eab8d2faed",
   "metadata": {},
   "source": [
    "Box plots are useful for visualizing the distribution of numerical data and showing the range, median, quartiles, and outliers of the data. The box in the plot represents the interquartile range (IQR), which is the range between the first quartile (25th percentile) and the third quartile (75th percentile) of the data. The whiskers extend from the box to show the minimum and maximum values within 1.5 times the IQR, and any points beyond the whiskers are considered outliers."
   ]
  },
  {
   "cell_type": "markdown",
   "id": "d4bce711-4e1f-4ecf-a975-688cc02201c7",
   "metadata": {},
   "source": [
    "9. Describe the difference between descriptive and inferential statistics. Give an example of each type of statistics and explain how they are used."
   ]
  },
  {
   "cell_type": "markdown",
   "id": "ff0cf010-b425-4f5f-ba13-81f6f63fa366",
   "metadata": {},
   "source": [
    "1. `Descriptive Statistics`: Descriptive statistics involves the collection, analysis, and presentation of data in a way that describes and summarizes the main features of a dataset. It is used to provide a summary of a dataset, and it includes measures such as measures of central tendency (mean, median, mode), measures of variability (standard deviation, variance), and graphical displays (histograms, box plots).\n",
    "\n",
    "*Example*: A survey conducted to determine the average salary of employees in a company. \n",
    "\n",
    "2. `Inferential Statistics`: Inferential statistics involves using a sample of data to make inferences about a larger population. It involves estimating population parameters based on sample statistics and testing hypotheses about the relationship between variables. Inferential statistics helps to make predictions about future events based on the data analysis.\n",
    "\n",
    "*Example*: A company wants to determine whether a new product is likely to be successful or not. "
   ]
  },
  {
   "cell_type": "markdown",
   "id": "ad64aae3-5b88-4bf0-93b8-efaf7e6fdece",
   "metadata": {},
   "source": [
    "10. What are some common measures of central tendency and variability used in statistics? Explain how each measure can be used to describe a dataset."
   ]
  },
  {
   "cell_type": "markdown",
   "id": "e744e13f-fa4a-47bf-b97e-ca9ac7d05525",
   "metadata": {},
   "source": [
    "1. `Mean`: The mean is the arithmetic average of a set of numbers. It is calculated by summing all the numbers in the set and dividing by the total number of values. The mean is a good measure of central tendency when the data is normally distributed or when there are no extreme outliers. \n",
    "\n",
    "2. `Median`: The median is the middle value of a set of numbers. It is the value that separates the upper and lower halves of a dataset. The median is useful when the data has extreme values or outliers that would skew the mean. The median is also a good measure of central tendency when the data is not normally distributed.\n",
    "\n",
    "3. `Mode`: The mode is the value that appears most frequently in a set of numbers. It is useful when the data is not continuous and when there is a clear peak or cluster in the distribution. The mode can also be used as a measure of central tendency when the data is not normally distributed.\n",
    "\n",
    "4. `Range`: The range is the difference between the highest and lowest values in a set of numbers. It gives an indication of how spread out the data is. The range is useful for understanding the spread of the data, but it can be heavily influenced by outliers.\n",
    "\n",
    "5. `Variance`: The variance is a measure of how spread out the data is from the mean. It is calculated by taking the average of the squared differences between each value and the mean. A high variance indicates that the data is spread out, while a low variance indicates that the data is tightly clustered around the mean.\n",
    "\n",
    "6. `Standard Deviation`: The standard deviation is the square root of the variance. It gives an indication of how much the data deviates from the mean. A high standard deviation indicates that the data is spread out, while a low standard deviation indicates that the data is tightly clustered around the mean."
   ]
  },
  {
   "cell_type": "code",
   "execution_count": null,
   "id": "850ef527-1cd0-43cf-a0aa-d7b9d94c27cd",
   "metadata": {},
   "outputs": [],
   "source": []
  }
 ],
 "metadata": {
  "kernelspec": {
   "display_name": "Python 3 (ipykernel)",
   "language": "python",
   "name": "python3"
  },
  "language_info": {
   "codemirror_mode": {
    "name": "ipython",
    "version": 3
   },
   "file_extension": ".py",
   "mimetype": "text/x-python",
   "name": "python",
   "nbconvert_exporter": "python",
   "pygments_lexer": "ipython3",
   "version": "3.10.8"
  }
 },
 "nbformat": 4,
 "nbformat_minor": 5
}
